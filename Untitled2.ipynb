{
 "cells": [
  {
   "cell_type": "code",
   "execution_count": 32,
   "id": "a73d09c2",
   "metadata": {},
   "outputs": [],
   "source": [
    "import pandas as pd"
   ]
  },
  {
   "cell_type": "code",
   "execution_count": 55,
   "id": "32ab3dec",
   "metadata": {},
   "outputs": [],
   "source": [
    "df1=pd.read_csv(r\"first_tble.csv\")"
   ]
  },
  {
   "cell_type": "code",
   "execution_count": 56,
   "id": "1dd5dd4c",
   "metadata": {},
   "outputs": [],
   "source": [
    "df2=pd.read_csv(r\"Second_tble.csv\")"
   ]
  },
  {
   "cell_type": "code",
   "execution_count": 57,
   "id": "0a9d9c12",
   "metadata": {},
   "outputs": [
    {
     "data": {
      "text/plain": [
       "Name       0\n",
       "Size       0\n",
       "Price    553\n",
       "Link       0\n",
       "MRP      553\n",
       "dtype: int64"
      ]
     },
     "execution_count": 57,
     "metadata": {},
     "output_type": "execute_result"
    }
   ],
   "source": [
    "df1.isnull().sum()"
   ]
  },
  {
   "cell_type": "code",
   "execution_count": 58,
   "id": "d301842d",
   "metadata": {},
   "outputs": [
    {
     "data": {
      "text/plain": [
       "(1443, 5)"
      ]
     },
     "execution_count": 58,
     "metadata": {},
     "output_type": "execute_result"
    }
   ],
   "source": [
    "df1.shape"
   ]
  },
  {
   "cell_type": "code",
   "execution_count": 59,
   "id": "661e3f05",
   "metadata": {},
   "outputs": [
    {
     "data": {
      "text/plain": [
       "(1443, 5)"
      ]
     },
     "execution_count": 59,
     "metadata": {},
     "output_type": "execute_result"
    }
   ],
   "source": [
    "df2.shape"
   ]
  },
  {
   "cell_type": "code",
   "execution_count": 60,
   "id": "ac27afdb",
   "metadata": {},
   "outputs": [
    {
     "data": {
      "text/plain": [
       "Name              0\n",
       "brand             4\n",
       "rating         1088\n",
       "no_rating      1088\n",
       "key_benefit       0\n",
       "dtype: int64"
      ]
     },
     "execution_count": 60,
     "metadata": {},
     "output_type": "execute_result"
    }
   ],
   "source": [
    "df2.isnull().sum()"
   ]
  },
  {
   "cell_type": "code",
   "execution_count": 61,
   "id": "6dec3350",
   "metadata": {},
   "outputs": [],
   "source": [
    "merge_df=pd.merge(df1, df2, how='inner', on='Name')"
   ]
  },
  {
   "cell_type": "code",
   "execution_count": 62,
   "id": "fdd7b54b",
   "metadata": {},
   "outputs": [
    {
     "data": {
      "text/html": [
       "<div>\n",
       "<style scoped>\n",
       "    .dataframe tbody tr th:only-of-type {\n",
       "        vertical-align: middle;\n",
       "    }\n",
       "\n",
       "    .dataframe tbody tr th {\n",
       "        vertical-align: top;\n",
       "    }\n",
       "\n",
       "    .dataframe thead th {\n",
       "        text-align: right;\n",
       "    }\n",
       "</style>\n",
       "<table border=\"1\" class=\"dataframe\">\n",
       "  <thead>\n",
       "    <tr style=\"text-align: right;\">\n",
       "      <th></th>\n",
       "      <th>Name</th>\n",
       "      <th>Size</th>\n",
       "      <th>Price</th>\n",
       "      <th>Link</th>\n",
       "      <th>MRP</th>\n",
       "      <th>brand</th>\n",
       "      <th>rating</th>\n",
       "      <th>no_rating</th>\n",
       "      <th>key_benefit</th>\n",
       "    </tr>\n",
       "  </thead>\n",
       "  <tbody>\n",
       "    <tr>\n",
       "      <th>0</th>\n",
       "      <td>Dr Willmar Schwabe India Terminalia Chebula Di...</td>\n",
       "      <td>bottle of 30 ml Dilution</td>\n",
       "      <td>NaN</td>\n",
       "      <td>https://www.1mg.com/otc/dr-willmar-schwabe-ind...</td>\n",
       "      <td>NaN</td>\n",
       "      <td>Dr Willmar Schwabe India Pvt Ltd</td>\n",
       "      <td>NaN</td>\n",
       "      <td>NaN</td>\n",
       "      <td>['', '', '', '', '', '', '', '', '', '']</td>\n",
       "    </tr>\n",
       "    <tr>\n",
       "      <th>1</th>\n",
       "      <td>SBL Silicea 0/24 LM</td>\n",
       "      <td>bottle of 20 gm Globules</td>\n",
       "      <td>NaN</td>\n",
       "      <td>https://www.1mg.com/otc/sbl-silicea-0-24-lm-ot...</td>\n",
       "      <td>NaN</td>\n",
       "      <td>SBL Pvt Ltd</td>\n",
       "      <td>4.6</td>\n",
       "      <td>12 Ratings</td>\n",
       "      <td>['', '', '', '', '', '', '', '', '', '', '', '...</td>\n",
       "    </tr>\n",
       "    <tr>\n",
       "      <th>2</th>\n",
       "      <td>Dr. Majumder Homeo World Blumea Odorata Diluti...</td>\n",
       "      <td>box of 1 Bottle</td>\n",
       "      <td>230.0</td>\n",
       "      <td>https://www.1mg.com/otc/dr.-majumder-homeo-wor...</td>\n",
       "      <td>MRP₹27015% OFF</td>\n",
       "      <td>Dr. Majumder Homeo World</td>\n",
       "      <td>NaN</td>\n",
       "      <td>NaN</td>\n",
       "      <td>['', '', '', '', '', '', '', '']</td>\n",
       "    </tr>\n",
       "    <tr>\n",
       "      <th>3</th>\n",
       "      <td>Bjain Kalium Iodatum Dilution 10M CH</td>\n",
       "      <td>bottle of 30 ml Dilution</td>\n",
       "      <td>270.0</td>\n",
       "      <td>https://www.1mg.com/otc/bjain-kalium-iodatum-d...</td>\n",
       "      <td>MRP₹30010% OFF</td>\n",
       "      <td>Bjain Pharmaceuticals Pvt. Ltd.</td>\n",
       "      <td>NaN</td>\n",
       "      <td>NaN</td>\n",
       "      <td>['', '', '', '', '', '', '']</td>\n",
       "    </tr>\n",
       "    <tr>\n",
       "      <th>4</th>\n",
       "      <td>LDD Bioscience Guaiacum Mother Tincture Q</td>\n",
       "      <td>bottle of 100 ml Mother Tincture</td>\n",
       "      <td>945.0</td>\n",
       "      <td>https://www.1mg.com/otc/ldd-bioscience-guaiacu...</td>\n",
       "      <td>MRP₹105010% OFF</td>\n",
       "      <td>LDD Bioscience Pvt Ltd</td>\n",
       "      <td>NaN</td>\n",
       "      <td>NaN</td>\n",
       "      <td>[]</td>\n",
       "    </tr>\n",
       "  </tbody>\n",
       "</table>\n",
       "</div>"
      ],
      "text/plain": [
       "                                                Name  \\\n",
       "0  Dr Willmar Schwabe India Terminalia Chebula Di...   \n",
       "1                                SBL Silicea 0/24 LM   \n",
       "2  Dr. Majumder Homeo World Blumea Odorata Diluti...   \n",
       "3               Bjain Kalium Iodatum Dilution 10M CH   \n",
       "4          LDD Bioscience Guaiacum Mother Tincture Q   \n",
       "\n",
       "                               Size  Price  \\\n",
       "0          bottle of 30 ml Dilution    NaN   \n",
       "1          bottle of 20 gm Globules    NaN   \n",
       "2                   box of 1 Bottle  230.0   \n",
       "3          bottle of 30 ml Dilution  270.0   \n",
       "4  bottle of 100 ml Mother Tincture  945.0   \n",
       "\n",
       "                                                Link              MRP  \\\n",
       "0  https://www.1mg.com/otc/dr-willmar-schwabe-ind...              NaN   \n",
       "1  https://www.1mg.com/otc/sbl-silicea-0-24-lm-ot...              NaN   \n",
       "2  https://www.1mg.com/otc/dr.-majumder-homeo-wor...   MRP₹27015% OFF   \n",
       "3  https://www.1mg.com/otc/bjain-kalium-iodatum-d...   MRP₹30010% OFF   \n",
       "4  https://www.1mg.com/otc/ldd-bioscience-guaiacu...  MRP₹105010% OFF   \n",
       "\n",
       "                              brand  rating   no_rating  \\\n",
       "0  Dr Willmar Schwabe India Pvt Ltd     NaN         NaN   \n",
       "1                       SBL Pvt Ltd     4.6  12 Ratings   \n",
       "2          Dr. Majumder Homeo World     NaN         NaN   \n",
       "3   Bjain Pharmaceuticals Pvt. Ltd.     NaN         NaN   \n",
       "4            LDD Bioscience Pvt Ltd     NaN         NaN   \n",
       "\n",
       "                                         key_benefit  \n",
       "0           ['', '', '', '', '', '', '', '', '', '']  \n",
       "1  ['', '', '', '', '', '', '', '', '', '', '', '...  \n",
       "2                   ['', '', '', '', '', '', '', '']  \n",
       "3                       ['', '', '', '', '', '', '']  \n",
       "4                                                 []  "
      ]
     },
     "execution_count": 62,
     "metadata": {},
     "output_type": "execute_result"
    }
   ],
   "source": [
    "merge_df.head()"
   ]
  },
  {
   "cell_type": "code",
   "execution_count": 63,
   "id": "92472749",
   "metadata": {},
   "outputs": [
    {
     "data": {
      "text/plain": [
       "Name              0\n",
       "Size              0\n",
       "Price           561\n",
       "Link              0\n",
       "MRP             561\n",
       "brand             4\n",
       "rating         1100\n",
       "no_rating      1100\n",
       "key_benefit       0\n",
       "dtype: int64"
      ]
     },
     "execution_count": 63,
     "metadata": {},
     "output_type": "execute_result"
    }
   ],
   "source": [
    "merge_df.isnull().sum()"
   ]
  },
  {
   "cell_type": "code",
   "execution_count": 65,
   "id": "3890e8d5",
   "metadata": {},
   "outputs": [],
   "source": [
    "merge_df.drop(columns=['key_benefit'], inplace=True)"
   ]
  },
  {
   "cell_type": "code",
   "execution_count": 66,
   "id": "cd591301",
   "metadata": {},
   "outputs": [],
   "source": [
    "merge_df['rating'].fillna(0, inplace=True)"
   ]
  },
  {
   "cell_type": "code",
   "execution_count": 67,
   "id": "06260eab",
   "metadata": {},
   "outputs": [],
   "source": [
    "merge_df['no_rating'].fillna(0, inplace=True)"
   ]
  },
  {
   "cell_type": "code",
   "execution_count": 68,
   "id": "8c327056",
   "metadata": {},
   "outputs": [
    {
     "data": {
      "text/html": [
       "<div>\n",
       "<style scoped>\n",
       "    .dataframe tbody tr th:only-of-type {\n",
       "        vertical-align: middle;\n",
       "    }\n",
       "\n",
       "    .dataframe tbody tr th {\n",
       "        vertical-align: top;\n",
       "    }\n",
       "\n",
       "    .dataframe thead th {\n",
       "        text-align: right;\n",
       "    }\n",
       "</style>\n",
       "<table border=\"1\" class=\"dataframe\">\n",
       "  <thead>\n",
       "    <tr style=\"text-align: right;\">\n",
       "      <th></th>\n",
       "      <th>Name</th>\n",
       "      <th>Size</th>\n",
       "      <th>Price</th>\n",
       "      <th>Link</th>\n",
       "      <th>MRP</th>\n",
       "      <th>brand</th>\n",
       "      <th>rating</th>\n",
       "      <th>no_rating</th>\n",
       "    </tr>\n",
       "  </thead>\n",
       "  <tbody>\n",
       "    <tr>\n",
       "      <th>0</th>\n",
       "      <td>Dr Willmar Schwabe India Terminalia Chebula Di...</td>\n",
       "      <td>bottle of 30 ml Dilution</td>\n",
       "      <td>NaN</td>\n",
       "      <td>https://www.1mg.com/otc/dr-willmar-schwabe-ind...</td>\n",
       "      <td>NaN</td>\n",
       "      <td>Dr Willmar Schwabe India Pvt Ltd</td>\n",
       "      <td>0.0</td>\n",
       "      <td>0</td>\n",
       "    </tr>\n",
       "    <tr>\n",
       "      <th>1</th>\n",
       "      <td>SBL Silicea 0/24 LM</td>\n",
       "      <td>bottle of 20 gm Globules</td>\n",
       "      <td>NaN</td>\n",
       "      <td>https://www.1mg.com/otc/sbl-silicea-0-24-lm-ot...</td>\n",
       "      <td>NaN</td>\n",
       "      <td>SBL Pvt Ltd</td>\n",
       "      <td>4.6</td>\n",
       "      <td>12 Ratings</td>\n",
       "    </tr>\n",
       "    <tr>\n",
       "      <th>2</th>\n",
       "      <td>Dr. Majumder Homeo World Blumea Odorata Diluti...</td>\n",
       "      <td>box of 1 Bottle</td>\n",
       "      <td>230.0</td>\n",
       "      <td>https://www.1mg.com/otc/dr.-majumder-homeo-wor...</td>\n",
       "      <td>MRP₹27015% OFF</td>\n",
       "      <td>Dr. Majumder Homeo World</td>\n",
       "      <td>0.0</td>\n",
       "      <td>0</td>\n",
       "    </tr>\n",
       "    <tr>\n",
       "      <th>3</th>\n",
       "      <td>Bjain Kalium Iodatum Dilution 10M CH</td>\n",
       "      <td>bottle of 30 ml Dilution</td>\n",
       "      <td>270.0</td>\n",
       "      <td>https://www.1mg.com/otc/bjain-kalium-iodatum-d...</td>\n",
       "      <td>MRP₹30010% OFF</td>\n",
       "      <td>Bjain Pharmaceuticals Pvt. Ltd.</td>\n",
       "      <td>0.0</td>\n",
       "      <td>0</td>\n",
       "    </tr>\n",
       "    <tr>\n",
       "      <th>4</th>\n",
       "      <td>LDD Bioscience Guaiacum Mother Tincture Q</td>\n",
       "      <td>bottle of 100 ml Mother Tincture</td>\n",
       "      <td>945.0</td>\n",
       "      <td>https://www.1mg.com/otc/ldd-bioscience-guaiacu...</td>\n",
       "      <td>MRP₹105010% OFF</td>\n",
       "      <td>LDD Bioscience Pvt Ltd</td>\n",
       "      <td>0.0</td>\n",
       "      <td>0</td>\n",
       "    </tr>\n",
       "  </tbody>\n",
       "</table>\n",
       "</div>"
      ],
      "text/plain": [
       "                                                Name  \\\n",
       "0  Dr Willmar Schwabe India Terminalia Chebula Di...   \n",
       "1                                SBL Silicea 0/24 LM   \n",
       "2  Dr. Majumder Homeo World Blumea Odorata Diluti...   \n",
       "3               Bjain Kalium Iodatum Dilution 10M CH   \n",
       "4          LDD Bioscience Guaiacum Mother Tincture Q   \n",
       "\n",
       "                               Size  Price  \\\n",
       "0          bottle of 30 ml Dilution    NaN   \n",
       "1          bottle of 20 gm Globules    NaN   \n",
       "2                   box of 1 Bottle  230.0   \n",
       "3          bottle of 30 ml Dilution  270.0   \n",
       "4  bottle of 100 ml Mother Tincture  945.0   \n",
       "\n",
       "                                                Link              MRP  \\\n",
       "0  https://www.1mg.com/otc/dr-willmar-schwabe-ind...              NaN   \n",
       "1  https://www.1mg.com/otc/sbl-silicea-0-24-lm-ot...              NaN   \n",
       "2  https://www.1mg.com/otc/dr.-majumder-homeo-wor...   MRP₹27015% OFF   \n",
       "3  https://www.1mg.com/otc/bjain-kalium-iodatum-d...   MRP₹30010% OFF   \n",
       "4  https://www.1mg.com/otc/ldd-bioscience-guaiacu...  MRP₹105010% OFF   \n",
       "\n",
       "                              brand  rating   no_rating  \n",
       "0  Dr Willmar Schwabe India Pvt Ltd     0.0           0  \n",
       "1                       SBL Pvt Ltd     4.6  12 Ratings  \n",
       "2          Dr. Majumder Homeo World     0.0           0  \n",
       "3   Bjain Pharmaceuticals Pvt. Ltd.     0.0           0  \n",
       "4            LDD Bioscience Pvt Ltd     0.0           0  "
      ]
     },
     "execution_count": 68,
     "metadata": {},
     "output_type": "execute_result"
    }
   ],
   "source": [
    "merge_df.head()\n"
   ]
  },
  {
   "cell_type": "code",
   "execution_count": 69,
   "id": "fd0c9202",
   "metadata": {},
   "outputs": [
    {
     "data": {
      "text/plain": [
       "Name           0\n",
       "Size           0\n",
       "Price        561\n",
       "Link           0\n",
       "MRP          561\n",
       "brand          4\n",
       "rating         0\n",
       "no_rating      0\n",
       "dtype: int64"
      ]
     },
     "execution_count": 69,
     "metadata": {},
     "output_type": "execute_result"
    }
   ],
   "source": [
    "merge_df.isnull().sum()"
   ]
  },
  {
   "cell_type": "code",
   "execution_count": 71,
   "id": "380346c8",
   "metadata": {},
   "outputs": [],
   "source": [
    "merge_df.dropna(inplace=True)"
   ]
  },
  {
   "cell_type": "code",
   "execution_count": 72,
   "id": "6f9d9619",
   "metadata": {},
   "outputs": [
    {
     "data": {
      "text/plain": [
       "Name         0\n",
       "Size         0\n",
       "Price        0\n",
       "Link         0\n",
       "MRP          0\n",
       "brand        0\n",
       "rating       0\n",
       "no_rating    0\n",
       "dtype: int64"
      ]
     },
     "execution_count": 72,
     "metadata": {},
     "output_type": "execute_result"
    }
   ],
   "source": [
    "merge_df.isnull().sum()"
   ]
  },
  {
   "cell_type": "code",
   "execution_count": 44,
   "id": "b0806f42",
   "metadata": {},
   "outputs": [
    {
     "data": {
      "text/plain": [
       "20"
      ]
     },
     "execution_count": 44,
     "metadata": {},
     "output_type": "execute_result"
    }
   ],
   "source": [
    "merge_df.duplicated().sum()"
   ]
  },
  {
   "cell_type": "code",
   "execution_count": 76,
   "id": "668c02a1",
   "metadata": {},
   "outputs": [],
   "source": [
    "merge_df.drop_duplicates(inplace=True)"
   ]
  },
  {
   "cell_type": "code",
   "execution_count": 77,
   "id": "ec19cf2b",
   "metadata": {},
   "outputs": [
    {
     "data": {
      "text/plain": [
       "(890, 8)"
      ]
     },
     "execution_count": 77,
     "metadata": {},
     "output_type": "execute_result"
    }
   ],
   "source": [
    "merge_df.shape\n"
   ]
  },
  {
   "cell_type": "code",
   "execution_count": 78,
   "id": "b476f678",
   "metadata": {},
   "outputs": [],
   "source": [
    "merge_df.to_csv(\"final.csv\")"
   ]
  },
  {
   "cell_type": "code",
   "execution_count": null,
   "id": "08e2227c",
   "metadata": {},
   "outputs": [],
   "source": []
  }
 ],
 "metadata": {
  "kernelspec": {
   "display_name": "Python 3 (ipykernel)",
   "language": "python",
   "name": "python3"
  },
  "language_info": {
   "codemirror_mode": {
    "name": "ipython",
    "version": 3
   },
   "file_extension": ".py",
   "mimetype": "text/x-python",
   "name": "python",
   "nbconvert_exporter": "python",
   "pygments_lexer": "ipython3",
   "version": "3.11.5"
  }
 },
 "nbformat": 4,
 "nbformat_minor": 5
}
