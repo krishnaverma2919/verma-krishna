{
 "cells": [
  {
   "cell_type": "code",
   "execution_count": null,
   "id": "d66488f6",
   "metadata": {},
   "outputs": [],
   "source": [
    "from selenium import webdriver\n",
    "from selenium.webdriver.common.keys import Keys\n",
    "from selenium.webdriver.common.by import By\n",
    "import pandas as pd\n",
    "import time\n",
    "from tqdm import tqdm"
   ]
  },
  {
   "cell_type": "code",
   "execution_count": 2,
   "id": "5507e39d",
   "metadata": {
    "scrolled": false
   },
   "outputs": [
    {
     "name": "stderr",
     "output_type": "stream",
     "text": [
      "100%|██████████████████████████████████████████████████████████████████████████████████| 37/37 [08:52<00:00, 14.40s/it]\n"
     ]
    }
   ],
   "source": [
    "driver = webdriver.Chrome()\n",
    "driver.get(\"https://www.1mg.com/categories/homeopathy-57\")\n",
    "time.sleep(5)\n",
    "cancel_xpath = '//*[@id=\"update-city-modal\"]/div/div[3]/div[1]'\n",
    "driver.find_element(by=By.XPATH, value=cancel_xpath).click()\n",
    "#driver.maximize_window()\n",
    "time.sleep(5)\n",
    "\n",
    "name_arr = []\n",
    "price_arr = []\n",
    "size_arr = []\n",
    "link_arr = []\n",
    "mrp_arr = []\n",
    "\n",
    "for i in tqdm(range(3, 40)):\n",
    "   # print('-'*60)\n",
    "   # print('-'*60)\n",
    "   # print(f\"page no {i-1}\")\n",
    "   # print('-'*60)\n",
    "   # print('-'*60)\n",
    "    if i > 7:\n",
    "        i = 7\n",
    "    next_xpath = f'//*[@id=\"category-container\"]/div[2]/div[2]/div[2]/div/div[2]/div[2]/ul/li[{i}]/a'\n",
    "    driver.find_element(by=By.XPATH, value=next_xpath).click()\n",
    "    time.sleep(5)\n",
    "    \n",
    "    \n",
    "    \n",
    "    for j in range(1, 40):\n",
    "        \n",
    "        try:\n",
    "            x_path_name = f'//*[@id=\"category-container\"]/div[2]/div[2]/div[2]/div/div[2]/div[1]/div[{j}]/div/a/div[3]/div[1]'\n",
    "            element = driver.find_element(by=By.XPATH, value=x_path_name)\n",
    "            name = element.text\n",
    "        except:\n",
    "            \n",
    "        \n",
    "            continue\n",
    "        # print(name)\n",
    "        \n",
    "        x_path_size = f'//*[@id=\"category-container\"]/div[2]/div[2]/div[2]/div/div[2]/div[1]/div[{j}]/div/a/div[3]/div[2]'\n",
    "        element = driver.find_element(by=By.XPATH, value=x_path_size)\n",
    "        size = element.text\n",
    "        # print(size)\n",
    "        \n",
    "        try:\n",
    "            x_path_price = f'//*[@id=\"category-container\"]/div[2]/div[2]/div[2]/div/div[2]/div[1]/div[{j}]/div/a/div[4]/div/div[2]/span'\n",
    "            element = driver.find_element(by=By.XPATH, value=x_path_price)\n",
    "            price = element.text\n",
    "        except Exception as e:\n",
    "            price = None\n",
    "        # print(price)\n",
    "        \n",
    "        x_path_link = f'//*[@id=\"category-container\"]/div[2]/div[2]/div[2]/div/div[2]/div[1]/div[{j}]/div'\n",
    "        ele = driver.find_element(by=By.XPATH, value=x_path_link) \n",
    "        text = ele.get_attribute('innerHTML')\n",
    "        link = text[text.find('href')+6:text.find(\"class\")-2]\n",
    "        link = \"https://www.1mg.com\" + link\n",
    "        #print(link)\n",
    "        \n",
    "        try:\n",
    "            x_path_mrp = f'//*[@id=\"category-container\"]/div[2]/div[2]/div[2]/div/div[2]/div[1]/div[{j}]/div/a/div[4]/div/div[1]'\n",
    "            element = driver.find_element(by=By.XPATH, value=x_path_mrp)\n",
    "            mrp = element.text\n",
    "        except:\n",
    "            mrp = None\n",
    "#             x_path_mrp = f'//*[@id=\"category-container\"]/div[2]/div[2]/div[2]/div/div[2]/div[1]/div[{j}]/div/a/div[4]/div/span[2]'\n",
    "#             element = driver.find_element(by=By.XPATH, value=x_path_mrp)\n",
    "#             mrp = element.text\n",
    "        # print(mrp)\n",
    "        # print()\n",
    "            \n",
    "        name_arr.append(name)\n",
    "        price_arr.append(price)\n",
    "        size_arr.append(size)\n",
    "        link_arr.append(link)\n",
    "        mrp_arr.append(mrp)\n",
    "        \n",
    "    time.sleep(5)\n",
    "\n",
    "driver.close()\n"
   ]
  },
  {
   "cell_type": "code",
   "execution_count": 3,
   "id": "c7c99646",
   "metadata": {},
   "outputs": [],
   "source": [
    "data = {\n",
    "    'Name': name_arr,\n",
    "    'Size': size_arr,\n",
    "    'Price': price_arr,\n",
    "    'Link': link_arr,\n",
    "    'MRP': mrp_arr\n",
    "}\n",
    "\n",
    "df = pd.DataFrame(data)"
   ]
  },
  {
   "cell_type": "code",
   "execution_count": 4,
   "id": "ba6ea1a8",
   "metadata": {},
   "outputs": [
    {
     "data": {
      "text/html": [
       "<div>\n",
       "<style scoped>\n",
       "    .dataframe tbody tr th:only-of-type {\n",
       "        vertical-align: middle;\n",
       "    }\n",
       "\n",
       "    .dataframe tbody tr th {\n",
       "        vertical-align: top;\n",
       "    }\n",
       "\n",
       "    .dataframe thead th {\n",
       "        text-align: right;\n",
       "    }\n",
       "</style>\n",
       "<table border=\"1\" class=\"dataframe\">\n",
       "  <thead>\n",
       "    <tr style=\"text-align: right;\">\n",
       "      <th></th>\n",
       "      <th>Name</th>\n",
       "      <th>Size</th>\n",
       "      <th>Price</th>\n",
       "      <th>Link</th>\n",
       "      <th>MRP</th>\n",
       "    </tr>\n",
       "  </thead>\n",
       "  <tbody>\n",
       "    <tr>\n",
       "      <th>0</th>\n",
       "      <td>Dr Willmar Schwabe India Terminalia Chebula Di...</td>\n",
       "      <td>bottle of 30 ml Dilution</td>\n",
       "      <td>None</td>\n",
       "      <td>https://www.1mg.com/otc/dr-willmar-schwabe-ind...</td>\n",
       "      <td>None</td>\n",
       "    </tr>\n",
       "    <tr>\n",
       "      <th>1</th>\n",
       "      <td>SBL Silicea 0/24 LM</td>\n",
       "      <td>bottle of 20 gm Globules</td>\n",
       "      <td>None</td>\n",
       "      <td>https://www.1mg.com/otc/sbl-silicea-0-24-lm-ot...</td>\n",
       "      <td>None</td>\n",
       "    </tr>\n",
       "    <tr>\n",
       "      <th>2</th>\n",
       "      <td>Dr. Majumder Homeo World Blumea Odorata Diluti...</td>\n",
       "      <td>box of 1 Bottle</td>\n",
       "      <td>230</td>\n",
       "      <td>https://www.1mg.com/otc/dr.-majumder-homeo-wor...</td>\n",
       "      <td>MRP₹27015% OFF</td>\n",
       "    </tr>\n",
       "    <tr>\n",
       "      <th>3</th>\n",
       "      <td>Bjain Kalium Iodatum Dilution 10M CH</td>\n",
       "      <td>bottle of 30 ml Dilution</td>\n",
       "      <td>270</td>\n",
       "      <td>https://www.1mg.com/otc/bjain-kalium-iodatum-d...</td>\n",
       "      <td>MRP₹30010% OFF</td>\n",
       "    </tr>\n",
       "    <tr>\n",
       "      <th>4</th>\n",
       "      <td>LDD Bioscience Guaiacum Mother Tincture Q</td>\n",
       "      <td>bottle of 100 ml Mother Tincture</td>\n",
       "      <td>945</td>\n",
       "      <td>https://www.1mg.com/otc/ldd-bioscience-guaiacu...</td>\n",
       "      <td>MRP₹105010% OFF</td>\n",
       "    </tr>\n",
       "  </tbody>\n",
       "</table>\n",
       "</div>"
      ],
      "text/plain": [
       "                                                Name  \\\n",
       "0  Dr Willmar Schwabe India Terminalia Chebula Di...   \n",
       "1                                SBL Silicea 0/24 LM   \n",
       "2  Dr. Majumder Homeo World Blumea Odorata Diluti...   \n",
       "3               Bjain Kalium Iodatum Dilution 10M CH   \n",
       "4          LDD Bioscience Guaiacum Mother Tincture Q   \n",
       "\n",
       "                               Size Price  \\\n",
       "0          bottle of 30 ml Dilution  None   \n",
       "1          bottle of 20 gm Globules  None   \n",
       "2                   box of 1 Bottle   230   \n",
       "3          bottle of 30 ml Dilution   270   \n",
       "4  bottle of 100 ml Mother Tincture   945   \n",
       "\n",
       "                                                Link              MRP  \n",
       "0  https://www.1mg.com/otc/dr-willmar-schwabe-ind...             None  \n",
       "1  https://www.1mg.com/otc/sbl-silicea-0-24-lm-ot...             None  \n",
       "2  https://www.1mg.com/otc/dr.-majumder-homeo-wor...   MRP₹27015% OFF  \n",
       "3  https://www.1mg.com/otc/bjain-kalium-iodatum-d...   MRP₹30010% OFF  \n",
       "4  https://www.1mg.com/otc/ldd-bioscience-guaiacu...  MRP₹105010% OFF  "
      ]
     },
     "execution_count": 4,
     "metadata": {},
     "output_type": "execute_result"
    }
   ],
   "source": [
    "df.head()"
   ]
  },
  {
   "cell_type": "code",
   "execution_count": 5,
   "id": "7d518b68",
   "metadata": {},
   "outputs": [],
   "source": [
    "df.to_csv(\"first_tble.csv\",index=False)"
   ]
  },
  {
   "cell_type": "code",
   "execution_count": 6,
   "id": "5d4b3e9f",
   "metadata": {},
   "outputs": [
    {
     "data": {
      "text/plain": [
       "(1443, 5)"
      ]
     },
     "execution_count": 6,
     "metadata": {},
     "output_type": "execute_result"
    }
   ],
   "source": [
    "df.shape"
   ]
  },
  {
   "cell_type": "code",
   "execution_count": null,
   "id": "8d9c6766",
   "metadata": {},
   "outputs": [],
   "source": [
    "\n",
    "# //*[@id=\"category-container\"]/div[2]/div[2]/div[2]/div/div[2]/div[2]/ul/li[8]/a\n",
    "# //*[@id=\"category-container\"]/div[2]/div[2]/div[2]/div/div[2]/div[2]/ul/li[9]/a\n",
    "# //*[@id=\"category-container\"]/div[2]/div[2]/div[2]/div/div[2]/div[2]/ul/li[11]/a\n",
    "\n",
    "# //*[@id=\"category-container\"]/div[2]/div[2]/div[2]/div/div[2]/div[2]/ul/li[2]/a\n",
    "# //*[@id=\"category-container\"]/div[2]/div[2]/div[2]/div/div[2]/div[2]/ul/li[3]/a\n",
    "\n",
    "# //*[@id=\"category-container\"]/div[2]/div[2]/div[2]/div/div[2]/div[2]/ul/li[3]/a\n",
    "# //*[@id=\"category-container\"]/div[2]/div[2]/div[2]/div/div[2]/div[2]/ul/li[4]/a\n",
    "\n",
    "# //*[@id=\"category-container\"]/div[2]/div[2]/div[2]/div/div[2]/div[2]/ul/li[4]/a\n",
    "# //*[@id=\"category-container\"]/div[2]/div[2]/div[2]/div/div[2]/div[2]/ul/li[5]/a\n",
    "\n",
    "# //*[@id=\"category-container\"]/div[2]/div[2]/div[2]/div/div[2]/div[2]/ul/li[5]/a\n",
    "# //*[@id=\"category-container\"]/div[2]/div[2]/div[2]/div/div[2]/div[2]/ul/li[6]/a\n",
    "\n",
    "# //*[@id=\"category-container\"]/div[2]/div[2]/div[2]/div/div[2]/div[2]/ul/li[6]/a\n",
    "# //*[@id=\"category-container\"]/div[2]/div[2]/div[2]/div/div[2]/div[2]/ul/li[7]/a\n",
    "\n",
    "# //*[@id=\"category-container\"]/div[2]/div[2]/div[2]/div/div[2]/div[2]/ul/li[6]/a\n",
    "# //*[@id=\"category-container\"]/div[2]/div[2]/div[2]/div/div[2]/div[2]/ul/li[7]/a\n",
    "\n",
    "# //*[@id=\"category-container\"]/div[2]/div[2]/div[2]/div/div[2]/div[2]/ul/li[6]/a\n",
    "# //*[@id=\"category-container\"]/div[2]/div[2]/div[2]/div/div[2]/div[2]/ul/li[7]/a\n",
    "\n",
    "#name\n",
    "#//*[@id=\"category-container\"]/div[2]/div[2]/div[2]/div/div[2]/div[1]/div[3]/div/a/div[3]/div[1]\n",
    "#//*[@id=\"category-container\"]/div[2]/div[2]/div[2]/div/div[2]/div[1]/div[2]/div/a/div[3]/div[1]\n",
    "#//*[@id=\"category-container\"]/div[2]/div[2]/div[2]/div/div[2]/div[1]/div[1]/div/a/div[3]/div[1]\n",
    "#//*[@id=\"category-container\"]/div[3]/div[2]/div[2]/div/div[2]/div[1]/div[2]/div/a/div[4]/div[1]\n",
    "#//*[@id=\"category-container\"]/div[3]/div[2]/div[2]/div/div[2]/div[1]/div[9]/div/a/div[3]/div[1]\n",
    "#size\n",
    "\n",
    "#//*[@id=\"category-container\"]/div[2]/div[2]/div[2]/div/div[2]/div[1]/div[{i}]/div/a/div[3]/div[2]\n",
    "#//*[@id=\"category-container\"]/div[2]/div[2]/div[2]/div/div[2]/div[1]/div[2]/div/a/div[3]/div[2]\n",
    "#//*[@id=\"category-container\"]/div[2]/div[2]/div[2]/div/div[2]/div[1]/div[3]/div/a/div[3]/div[2]\n",
    "#price-2\n",
    "#//*[@id=\"category-container\"]/div[2]/div[2]/div[2]/div/div[2]/div[1]/div[{i}]/div/a/div[4]/div/div[2]/span\n",
    "#//*[@id=\"category-container\"]/div[2]/div[2]/div[2]/div/div[2]/div[1]/div[2]/div/a/div[4]/div/div[2]/span\n",
    "#//*[@id=\"category-container\"]/div[2]/div[2]/div[2]/div/div[2]/div[1]/div[3]/div/a/div[4]/div/div[2]/span\n",
    "#//*[@id=\"category-container\"]/div[2]/div[2]/div[2]/div/div[2]/div[1]/div[4]/div/a/div[4]/div/div[2]/span          \n",
    " #price-1\n",
    "#//*[@id=\"category-container\"]/div[2]/div[2]/div[2]/div[9]/div[2]/div[1]/div[1]/div/a/div[5]/div/div[2]\n",
    "#//*[@id=\"category-container\"]/div[2]/div[2]/div[2]/div[9]/div[2]/div[1]/div[2]/div/a/div[5]/div/span[2]\n",
    "#//*[@id=\"category-container\"]/div[2]/div[2]/div[2]/div[9]/div[2]/div[1]/div[3]/div/a/div[5]/div/div[2]/span\n",
    "#mrp\n",
    "#//*[@id=\"category-container\"]/div[2]/div[2]/div[2]/div/div[2]/div[1]/div[{j}]/div/a/div[4]/div/div[1]\n",
    "#//*[@id=\"category-container\"]/div[2]/div[2]/div[2]/div/div[2]/div[1]/div[2]/div/a/div[4]/div/div[1]\n",
    "#//*[@id=\"category-container\"]/div[2]/div[2]/div[2]/div/div[2]/div[1]/div[3]/div/a/div[4]/div/div[1]\n",
    "#//*[@id=\"category-container\"]/div[2]/div[2]/div[2]/div/div[2]/div[1]/div[{j}]/div/a/div[4]/div/span[2]"
   ]
  },
  {
   "cell_type": "code",
   "execution_count": null,
   "id": "2add9de0",
   "metadata": {},
   "outputs": [],
   "source": [
    "#brand\n",
    "#//*[@id=\"container\"]/div/div/div[2]/div[3]/div[1]/div[2]/a\n",
    "#//*[@id=\"container\"]/div/div/div[2]/div[3]/div[1]/div[2]/a\n",
    "#//*[@id=\"container\"]/div/div/div[2]/div[3]/div[1]/div[2]/a\n",
    "#//*[@id=\"container\"]/div/div/div[2]/div[3]/div[1]/div[2]/a\n",
    "#key benifit\n",
    "#//*[@id=\"container\"]/div/div/div[3]/div[1]/div[2]/div[2]/strong[3]\n",
    "#//*[@id=\"container\"]/div/div/div[3]/div[1]/div[2]/div[2]/b[3]"
   ]
  },
  {
   "cell_type": "code",
   "execution_count": null,
   "id": "c1e794d8",
   "metadata": {},
   "outputs": [],
   "source": [
    "\n"
   ]
  },
  {
   "cell_type": "code",
   "execution_count": null,
   "id": "6a47ed28",
   "metadata": {},
   "outputs": [],
   "source": [
    "\n",
    "       "
   ]
  },
  {
   "cell_type": "code",
   "execution_count": null,
   "id": "6be11cfb",
   "metadata": {},
   "outputs": [],
   "source": []
  },
  {
   "cell_type": "code",
   "execution_count": null,
   "id": "dc46c749",
   "metadata": {},
   "outputs": [],
   "source": [
    "#rating\n",
    "#//*[@id=\"category-container\"]/div[2]/div[2]/div[2]/div/div[2]/div[1]/div[3]/div/a/div[4]/div/span\n",
    "#//*[@id=\"category-container\"]/div[2]/div[2]/div[2]/div/div[2]/div[1]/div[8]/div/a/div[4]\n",
    "#//*[@id=\"category-container\"]/div[2]/div[2]/div[2]/div/div[2]/div[1]/div[11]/div/a/div[4]\n",
    "#//*[@id=\"category-container\"]/div[2]/div[2]/div[2]/div/div[2]/div[1]/div[17]/div/a/div[4]"
   ]
  }
 ],
 "metadata": {
  "kernelspec": {
   "display_name": "Python 3 (ipykernel)",
   "language": "python",
   "name": "python3"
  },
  "language_info": {
   "codemirror_mode": {
    "name": "ipython",
    "version": 3
   },
   "file_extension": ".py",
   "mimetype": "text/x-python",
   "name": "python",
   "nbconvert_exporter": "python",
   "pygments_lexer": "ipython3",
   "version": "3.11.5"
  }
 },
 "nbformat": 4,
 "nbformat_minor": 5
}
